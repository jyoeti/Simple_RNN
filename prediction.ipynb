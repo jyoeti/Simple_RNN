{
 "cells": [
  {
   "cell_type": "code",
   "execution_count": 1,
   "metadata": {},
   "outputs": [],
   "source": [
    "# Step 1: Import Libraries and Load the Model\n",
    "import numpy as np\n",
    "import tensorflow as tf\n",
    "from tensorflow.keras.datasets import imdb\n",
    "from tensorflow.keras.preprocessing import sequence\n",
    "from tensorflow.keras.models import load_model"
   ]
  },
  {
   "cell_type": "code",
   "execution_count": 2,
   "metadata": {},
   "outputs": [],
   "source": [
    "\n",
    "# Load the IMDB dataset word index\n",
    "word_index = imdb.get_word_index()\n",
    "reverse_word_index = {value: key for key, value in word_index.items()}"
   ]
  },
  {
   "cell_type": "code",
   "execution_count": 3,
   "metadata": {},
   "outputs": [
    {
     "name": "stderr",
     "output_type": "stream",
     "text": [
      "WARNING:absl:Compiled the loaded model, but the compiled metrics have yet to be built. `model.compile_metrics` will be empty until you train or evaluate the model.\n"
     ]
    },
    {
     "data": {
      "text/html": [
       "<pre style=\"white-space:pre;overflow-x:auto;line-height:normal;font-family:Menlo,'DejaVu Sans Mono',consolas,'Courier New',monospace\"><span style=\"font-weight: bold\">Model: \"sequential\"</span>\n",
       "</pre>\n"
      ],
      "text/plain": [
       "\u001b[1mModel: \"sequential\"\u001b[0m\n"
      ]
     },
     "metadata": {},
     "output_type": "display_data"
    },
    {
     "data": {
      "text/html": [
       "<pre style=\"white-space:pre;overflow-x:auto;line-height:normal;font-family:Menlo,'DejaVu Sans Mono',consolas,'Courier New',monospace\">┏━━━━━━━━━━━━━━━━━━━━━━━━━━━━━━━━━┳━━━━━━━━━━━━━━━━━━━━━━━━┳━━━━━━━━━━━━━━━┓\n",
       "┃<span style=\"font-weight: bold\"> Layer (type)                    </span>┃<span style=\"font-weight: bold\"> Output Shape           </span>┃<span style=\"font-weight: bold\">       Param # </span>┃\n",
       "┡━━━━━━━━━━━━━━━━━━━━━━━━━━━━━━━━━╇━━━━━━━━━━━━━━━━━━━━━━━━╇━━━━━━━━━━━━━━━┩\n",
       "│ embedding (<span style=\"color: #0087ff; text-decoration-color: #0087ff\">Embedding</span>)           │ (<span style=\"color: #00af00; text-decoration-color: #00af00\">32</span>, <span style=\"color: #00af00; text-decoration-color: #00af00\">500</span>, <span style=\"color: #00af00; text-decoration-color: #00af00\">128</span>)         │     <span style=\"color: #00af00; text-decoration-color: #00af00\">1,280,000</span> │\n",
       "├─────────────────────────────────┼────────────────────────┼───────────────┤\n",
       "│ simple_rnn (<span style=\"color: #0087ff; text-decoration-color: #0087ff\">SimpleRNN</span>)          │ (<span style=\"color: #00af00; text-decoration-color: #00af00\">32</span>, <span style=\"color: #00af00; text-decoration-color: #00af00\">128</span>)              │        <span style=\"color: #00af00; text-decoration-color: #00af00\">32,896</span> │\n",
       "├─────────────────────────────────┼────────────────────────┼───────────────┤\n",
       "│ dense (<span style=\"color: #0087ff; text-decoration-color: #0087ff\">Dense</span>)                   │ (<span style=\"color: #00af00; text-decoration-color: #00af00\">32</span>, <span style=\"color: #00af00; text-decoration-color: #00af00\">1</span>)                │           <span style=\"color: #00af00; text-decoration-color: #00af00\">129</span> │\n",
       "└─────────────────────────────────┴────────────────────────┴───────────────┘\n",
       "</pre>\n"
      ],
      "text/plain": [
       "┏━━━━━━━━━━━━━━━━━━━━━━━━━━━━━━━━━┳━━━━━━━━━━━━━━━━━━━━━━━━┳━━━━━━━━━━━━━━━┓\n",
       "┃\u001b[1m \u001b[0m\u001b[1mLayer (type)                   \u001b[0m\u001b[1m \u001b[0m┃\u001b[1m \u001b[0m\u001b[1mOutput Shape          \u001b[0m\u001b[1m \u001b[0m┃\u001b[1m \u001b[0m\u001b[1m      Param #\u001b[0m\u001b[1m \u001b[0m┃\n",
       "┡━━━━━━━━━━━━━━━━━━━━━━━━━━━━━━━━━╇━━━━━━━━━━━━━━━━━━━━━━━━╇━━━━━━━━━━━━━━━┩\n",
       "│ embedding (\u001b[38;5;33mEmbedding\u001b[0m)           │ (\u001b[38;5;34m32\u001b[0m, \u001b[38;5;34m500\u001b[0m, \u001b[38;5;34m128\u001b[0m)         │     \u001b[38;5;34m1,280,000\u001b[0m │\n",
       "├─────────────────────────────────┼────────────────────────┼───────────────┤\n",
       "│ simple_rnn (\u001b[38;5;33mSimpleRNN\u001b[0m)          │ (\u001b[38;5;34m32\u001b[0m, \u001b[38;5;34m128\u001b[0m)              │        \u001b[38;5;34m32,896\u001b[0m │\n",
       "├─────────────────────────────────┼────────────────────────┼───────────────┤\n",
       "│ dense (\u001b[38;5;33mDense\u001b[0m)                   │ (\u001b[38;5;34m32\u001b[0m, \u001b[38;5;34m1\u001b[0m)                │           \u001b[38;5;34m129\u001b[0m │\n",
       "└─────────────────────────────────┴────────────────────────┴───────────────┘\n"
      ]
     },
     "metadata": {},
     "output_type": "display_data"
    },
    {
     "data": {
      "text/html": [
       "<pre style=\"white-space:pre;overflow-x:auto;line-height:normal;font-family:Menlo,'DejaVu Sans Mono',consolas,'Courier New',monospace\"><span style=\"font-weight: bold\"> Total params: </span><span style=\"color: #00af00; text-decoration-color: #00af00\">1,313,027</span> (5.01 MB)\n",
       "</pre>\n"
      ],
      "text/plain": [
       "\u001b[1m Total params: \u001b[0m\u001b[38;5;34m1,313,027\u001b[0m (5.01 MB)\n"
      ]
     },
     "metadata": {},
     "output_type": "display_data"
    },
    {
     "data": {
      "text/html": [
       "<pre style=\"white-space:pre;overflow-x:auto;line-height:normal;font-family:Menlo,'DejaVu Sans Mono',consolas,'Courier New',monospace\"><span style=\"font-weight: bold\"> Trainable params: </span><span style=\"color: #00af00; text-decoration-color: #00af00\">1,313,025</span> (5.01 MB)\n",
       "</pre>\n"
      ],
      "text/plain": [
       "\u001b[1m Trainable params: \u001b[0m\u001b[38;5;34m1,313,025\u001b[0m (5.01 MB)\n"
      ]
     },
     "metadata": {},
     "output_type": "display_data"
    },
    {
     "data": {
      "text/html": [
       "<pre style=\"white-space:pre;overflow-x:auto;line-height:normal;font-family:Menlo,'DejaVu Sans Mono',consolas,'Courier New',monospace\"><span style=\"font-weight: bold\"> Non-trainable params: </span><span style=\"color: #00af00; text-decoration-color: #00af00\">0</span> (0.00 B)\n",
       "</pre>\n"
      ],
      "text/plain": [
       "\u001b[1m Non-trainable params: \u001b[0m\u001b[38;5;34m0\u001b[0m (0.00 B)\n"
      ]
     },
     "metadata": {},
     "output_type": "display_data"
    },
    {
     "data": {
      "text/html": [
       "<pre style=\"white-space:pre;overflow-x:auto;line-height:normal;font-family:Menlo,'DejaVu Sans Mono',consolas,'Courier New',monospace\"><span style=\"font-weight: bold\"> Optimizer params: </span><span style=\"color: #00af00; text-decoration-color: #00af00\">2</span> (12.00 B)\n",
       "</pre>\n"
      ],
      "text/plain": [
       "\u001b[1m Optimizer params: \u001b[0m\u001b[38;5;34m2\u001b[0m (12.00 B)\n"
      ]
     },
     "metadata": {},
     "output_type": "display_data"
    }
   ],
   "source": [
    "# Load the pre-trained model with ReLU activation\n",
    "model = load_model('simple_rnn_imdb.h5')\n",
    "model.summary()"
   ]
  },
  {
   "cell_type": "code",
   "execution_count": 4,
   "metadata": {},
   "outputs": [
    {
     "data": {
      "text/plain": [
       "[array([[ 0.01537696,  0.00817033, -0.06347561, ..., -0.05646003,\n",
       "          0.01801505, -0.01045387],\n",
       "        [ 0.03302271,  0.05404329, -0.04633494, ..., -0.05832369,\n",
       "          0.04354729, -0.0384747 ],\n",
       "        [-0.04391252, -0.01924269, -0.04103591, ..., -0.04393952,\n",
       "          0.00407123,  0.01569562],\n",
       "        ...,\n",
       "        [ 0.02961499, -0.07929555, -0.00791071, ...,  0.02049688,\n",
       "         -0.00298448, -0.05511735],\n",
       "        [ 0.03049222, -0.03206322,  0.07257681, ...,  0.02941052,\n",
       "          0.04066635,  0.00626877],\n",
       "        [-0.14188923, -0.0306445 , -0.136223  , ...,  0.01269776,\n",
       "         -0.07910962,  0.06122707]], dtype=float32),\n",
       " array([[ 0.01300635, -0.02209755,  0.01934911, ...,  0.07925429,\n",
       "         -0.1101351 , -0.1433712 ],\n",
       "        [-0.06095844, -0.12562154,  0.08927664, ..., -0.09642989,\n",
       "          0.17031191, -0.03214943],\n",
       "        [ 0.0696017 , -0.00066617,  0.11743616, ...,  0.02906101,\n",
       "         -0.14566182, -0.06985889],\n",
       "        ...,\n",
       "        [ 0.06239073, -0.04829141, -0.12933536, ...,  0.08639847,\n",
       "          0.04575538, -0.15227513],\n",
       "        [ 0.05073902, -0.0055305 , -0.04745308, ..., -0.08001856,\n",
       "          0.0556049 ,  0.04976286],\n",
       "        [ 0.05027756,  0.01548496,  0.07141948, ...,  0.04913946,\n",
       "          0.12918037,  0.10660445]], dtype=float32),\n",
       " array([[ 0.06030289, -0.21778738,  0.05066342, ...,  0.02152149,\n",
       "          0.09741362, -0.03304664],\n",
       "        [ 0.03800721, -0.11550149, -0.01731464, ..., -0.02763936,\n",
       "          0.05608985, -0.02982298],\n",
       "        [ 0.18797472,  0.09188142,  0.02948251, ..., -0.04249188,\n",
       "         -0.08197135, -0.16828758],\n",
       "        ...,\n",
       "        [-0.06781521, -0.06935143, -0.16040805, ...,  0.07033528,\n",
       "          0.05937418,  0.11203804],\n",
       "        [-0.02603192, -0.22768621, -0.10154895, ..., -0.20248401,\n",
       "         -0.05790154,  0.03345734],\n",
       "        [ 0.07387023, -0.12753741,  0.05750893, ...,  0.08212483,\n",
       "          0.00595732,  0.1104596 ]], dtype=float32),\n",
       " array([-1.08423410e-03, -3.20335058e-03, -6.47024810e-03, -2.43088864e-02,\n",
       "        -6.13986934e-03, -3.16377990e-02, -6.75649242e-03,  1.43587794e-02,\n",
       "         1.18849846e-02, -1.33405104e-02, -1.79550902e-03, -2.83716782e-03,\n",
       "        -1.66242905e-02, -2.67681610e-02,  5.98890381e-03,  6.65685721e-03,\n",
       "        -1.15435487e-02, -5.58731426e-03, -1.68573428e-02,  4.20223968e-03,\n",
       "        -2.78427009e-03, -1.29431468e-02,  9.20772832e-03, -1.02398836e-03,\n",
       "         8.64335056e-03, -1.60105142e-03,  1.54495435e-02,  2.00805012e-02,\n",
       "         4.46790131e-03,  1.48405402e-03, -1.42860329e-02, -6.44970126e-03,\n",
       "         7.08494475e-03, -1.61075313e-02,  2.09494377e-03, -1.05605572e-02,\n",
       "        -6.14212477e-04, -7.05863858e-05,  9.48969647e-03, -2.96083908e-03,\n",
       "         1.78784840e-02, -1.13585513e-04,  2.01778561e-02,  1.18844453e-02,\n",
       "         4.03509801e-03, -1.27011621e-02, -7.72298826e-03,  3.08217690e-03,\n",
       "        -1.38272559e-02, -6.87259296e-03,  1.35744000e-02, -5.20079210e-03,\n",
       "        -6.86389580e-03,  1.51015846e-02,  3.50178429e-03,  1.29910256e-03,\n",
       "        -6.32217561e-04,  8.72295629e-03,  2.29259916e-02,  2.31193863e-02,\n",
       "        -9.79912840e-03,  3.56540456e-03,  4.90991212e-03, -1.10058929e-03,\n",
       "        -1.16584226e-02, -2.30308734e-02,  2.43930295e-02, -4.43079695e-03,\n",
       "         1.77672654e-02, -4.33864444e-03,  2.27509886e-02,  9.54567268e-03,\n",
       "        -1.61840674e-02, -2.87354668e-03,  2.54921941e-03,  6.17608521e-03,\n",
       "        -1.07893730e-02, -1.41622480e-02, -9.11143888e-03, -2.44003790e-03,\n",
       "         6.21826912e-04, -2.72133835e-02, -1.26662164e-03,  9.13383439e-03,\n",
       "        -2.67226482e-03,  1.29980240e-02,  3.67325847e-03,  1.08338497e-03,\n",
       "        -3.94051569e-03, -1.13428058e-02,  2.33049951e-02, -1.35309817e-02,\n",
       "        -1.31431324e-02, -1.16294120e-02,  1.46097047e-02,  8.61064717e-03,\n",
       "        -7.39618577e-03, -1.93599518e-02, -1.65655685e-03,  2.06354689e-02,\n",
       "        -2.49213129e-02,  2.54352856e-02, -4.66416590e-03, -1.68260895e-02,\n",
       "        -3.66317923e-03, -1.10481475e-02,  2.15286128e-02, -5.50699839e-03,\n",
       "        -1.74257103e-02,  1.59758795e-02,  1.21812578e-02,  7.20539391e-02,\n",
       "        -8.45830794e-03, -1.62649285e-02, -1.28070656e-02,  1.26216644e-02,\n",
       "        -1.61610579e-03, -4.17047087e-03,  1.38913589e-02, -1.45797455e-03,\n",
       "         6.79268618e-04, -1.07087651e-02, -1.32584460e-02,  1.32679963e-03,\n",
       "         1.40393283e-02,  4.95945197e-03,  8.53285659e-03,  2.38582608e-03],\n",
       "       dtype=float32),\n",
       " array([[ 9.90015343e-02],\n",
       "        [ 4.57316786e-02],\n",
       "        [ 4.63308722e-01],\n",
       "        [ 2.15527520e-01],\n",
       "        [-1.84671298e-01],\n",
       "        [ 1.11035176e-01],\n",
       "        [-4.46539186e-02],\n",
       "        [-9.20138136e-03],\n",
       "        [-1.71278790e-01],\n",
       "        [ 1.21513389e-01],\n",
       "        [ 4.59906906e-02],\n",
       "        [-8.12606514e-02],\n",
       "        [-2.42712218e-02],\n",
       "        [-3.86992544e-02],\n",
       "        [-1.94606677e-01],\n",
       "        [-5.24889193e-02],\n",
       "        [ 9.11045894e-02],\n",
       "        [-1.80007428e-01],\n",
       "        [-8.79257023e-02],\n",
       "        [-1.10025063e-01],\n",
       "        [-1.74345091e-01],\n",
       "        [-1.26389293e-02],\n",
       "        [ 2.70076483e-01],\n",
       "        [-2.82852221e-02],\n",
       "        [ 3.23261440e-01],\n",
       "        [-8.22821483e-02],\n",
       "        [ 1.10464126e-01],\n",
       "        [-2.63355345e-01],\n",
       "        [ 1.56533733e-01],\n",
       "        [-2.16893166e-01],\n",
       "        [ 2.75925379e-02],\n",
       "        [-3.16063699e-04],\n",
       "        [-6.69715926e-02],\n",
       "        [ 7.52200708e-02],\n",
       "        [ 1.25658721e-01],\n",
       "        [-7.11505115e-02],\n",
       "        [ 2.06335276e-01],\n",
       "        [ 3.00093275e-02],\n",
       "        [-9.56047401e-02],\n",
       "        [ 2.29982380e-03],\n",
       "        [ 2.87273765e-01],\n",
       "        [-4.65140976e-02],\n",
       "        [ 3.30865756e-02],\n",
       "        [ 2.91850746e-01],\n",
       "        [-2.96777934e-01],\n",
       "        [-9.30064619e-02],\n",
       "        [-2.66602691e-02],\n",
       "        [-2.31803298e-01],\n",
       "        [-1.72530666e-01],\n",
       "        [ 3.16594034e-01],\n",
       "        [ 2.29675949e-01],\n",
       "        [-9.90020037e-02],\n",
       "        [ 5.10420501e-02],\n",
       "        [-1.21740460e+00],\n",
       "        [ 9.55951512e-02],\n",
       "        [ 1.63560674e-01],\n",
       "        [ 2.61016060e-02],\n",
       "        [-1.43578008e-01],\n",
       "        [ 7.32617825e-02],\n",
       "        [ 1.83524396e-02],\n",
       "        [ 6.63947165e-02],\n",
       "        [-2.54437447e-01],\n",
       "        [-2.29044333e-01],\n",
       "        [-1.89082518e-01],\n",
       "        [-9.46086496e-02],\n",
       "        [ 4.11513969e-02],\n",
       "        [ 9.20444280e-02],\n",
       "        [-9.56569090e-02],\n",
       "        [ 2.17972070e-01],\n",
       "        [-1.54419959e-01],\n",
       "        [ 2.77645916e-01],\n",
       "        [-9.15303156e-02],\n",
       "        [-1.66053459e-01],\n",
       "        [ 3.12881730e-02],\n",
       "        [ 1.74807653e-01],\n",
       "        [ 1.11865148e-01],\n",
       "        [ 8.30443874e-02],\n",
       "        [ 7.19043911e-02],\n",
       "        [-2.58183479e-01],\n",
       "        [-1.23369105e-01],\n",
       "        [-1.59597814e-01],\n",
       "        [ 1.05576089e-03],\n",
       "        [ 1.83929154e-03],\n",
       "        [-1.91281497e-01],\n",
       "        [ 2.12227747e-01],\n",
       "        [-1.12358056e-01],\n",
       "        [-2.77811050e-01],\n",
       "        [ 3.11018050e-01],\n",
       "        [-6.50340552e-03],\n",
       "        [-9.48984828e-03],\n",
       "        [-1.43221080e-01],\n",
       "        [-4.44804728e-02],\n",
       "        [-4.25730534e-02],\n",
       "        [-1.02186583e-01],\n",
       "        [ 7.09281340e-02],\n",
       "        [-1.85329825e-01],\n",
       "        [ 1.47734761e-01],\n",
       "        [-1.28498212e-01],\n",
       "        [-5.79613000e-02],\n",
       "        [ 1.03766993e-01],\n",
       "        [ 1.81262612e-01],\n",
       "        [ 2.60603577e-01],\n",
       "        [-1.66512147e-01],\n",
       "        [-2.05418035e-01],\n",
       "        [ 1.13437250e-01],\n",
       "        [ 2.53341138e-01],\n",
       "        [-3.40938210e-01],\n",
       "        [-1.47188082e-01],\n",
       "        [-1.03184730e-01],\n",
       "        [ 1.30906016e-01],\n",
       "        [-1.43725052e-01],\n",
       "        [-2.74322569e-01],\n",
       "        [ 6.40093625e-01],\n",
       "        [ 1.91479316e-03],\n",
       "        [-1.61021259e-02],\n",
       "        [ 1.53014526e-01],\n",
       "        [-1.00077152e-01],\n",
       "        [-1.45224305e-02],\n",
       "        [ 2.16693088e-01],\n",
       "        [-1.29935429e-01],\n",
       "        [ 1.21337399e-01],\n",
       "        [-1.44151196e-01],\n",
       "        [ 5.78015111e-04],\n",
       "        [ 6.68606982e-02],\n",
       "        [ 1.28432095e-01],\n",
       "        [ 9.35008079e-02],\n",
       "        [ 2.54391115e-02],\n",
       "        [ 1.85272545e-02]], dtype=float32),\n",
       " array([-0.54393727], dtype=float32)]"
      ]
     },
     "execution_count": 4,
     "metadata": {},
     "output_type": "execute_result"
    }
   ],
   "source": [
    "model.get_weights()"
   ]
  },
  {
   "cell_type": "code",
   "execution_count": 5,
   "metadata": {},
   "outputs": [],
   "source": [
    "# Step 2: Helper Functions\n",
    "# Function to decode reviews\n",
    "def decode_review(encoded_review):\n",
    "    return ' '.join([reverse_word_index.get(i - 3, '?') for i in encoded_review])\n",
    "\n",
    "# Function to preprocess user input\n",
    "def preprocess_text(text):\n",
    "    words = text.lower().split()\n",
    "    encoded_review = [word_index.get(word, 2) + 3 for word in words]\n",
    "    padded_review = sequence.pad_sequences([encoded_review], maxlen=500)\n",
    "    return padded_review"
   ]
  },
  {
   "cell_type": "code",
   "execution_count": 6,
   "metadata": {},
   "outputs": [],
   "source": [
    "### Prediction  function\n",
    "\n",
    "def predict_sentiment(review):\n",
    "    preprocessed_input=preprocess_text(review)\n",
    "\n",
    "    prediction=model.predict(preprocessed_input)\n",
    "\n",
    "    sentiment = 'Positive' if prediction[0][0] > 0.5 else 'Negative'\n",
    "    \n",
    "    return sentiment, prediction[0][0]\n",
    "\n"
   ]
  },
  {
   "cell_type": "code",
   "execution_count": 7,
   "metadata": {},
   "outputs": [
    {
     "name": "stdout",
     "output_type": "stream",
     "text": [
      "\u001b[1m1/1\u001b[0m \u001b[32m━━━━━━━━━━━━━━━━━━━━\u001b[0m\u001b[37m\u001b[0m \u001b[1m0s\u001b[0m 53ms/step\n",
      "Review: This movie was fantastic! The acting was great and the plot was thrilling.\n",
      "Sentiment: Positive\n",
      "Prediction Score: 0.9906979203224182\n"
     ]
    }
   ],
   "source": [
    "# Step 4: User Input and Prediction\n",
    "# Example review for prediction\n",
    "example_review = \"This movie was fantastic! The acting was great and the plot was thrilling.\"\n",
    "\n",
    "sentiment,score=predict_sentiment(example_review)\n",
    "\n",
    "print(f'Review: {example_review}')\n",
    "print(f'Sentiment: {sentiment}')\n",
    "print(f'Prediction Score: {score}')"
   ]
  },
  {
   "cell_type": "code",
   "execution_count": null,
   "metadata": {},
   "outputs": [],
   "source": []
  },
  {
   "cell_type": "code",
   "execution_count": null,
   "metadata": {},
   "outputs": [],
   "source": []
  },
  {
   "cell_type": "code",
   "execution_count": null,
   "metadata": {},
   "outputs": [],
   "source": []
  },
  {
   "cell_type": "code",
   "execution_count": null,
   "metadata": {},
   "outputs": [],
   "source": []
  }
 ],
 "metadata": {
  "kernelspec": {
   "display_name": "base",
   "language": "python",
   "name": "python3"
  },
  "language_info": {
   "codemirror_mode": {
    "name": "ipython",
    "version": 3
   },
   "file_extension": ".py",
   "mimetype": "text/x-python",
   "name": "python",
   "nbconvert_exporter": "python",
   "pygments_lexer": "ipython3",
   "version": "3.12.7"
  }
 },
 "nbformat": 4,
 "nbformat_minor": 2
}
