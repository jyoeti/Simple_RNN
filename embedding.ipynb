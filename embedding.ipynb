{
 "cells": [
  {
   "cell_type": "code",
   "execution_count": 1,
   "metadata": {},
   "outputs": [],
   "source": [
    "from tensorflow.keras.preprocessing.text import one_hot"
   ]
  },
  {
   "cell_type": "code",
   "execution_count": 2,
   "metadata": {},
   "outputs": [],
   "source": [
    "### sentences\n",
    "sent=[  'the glass of milk',\n",
    "     'the glass of juice',\n",
    "     'the cup of tea',\n",
    "    'I am a good boy',\n",
    "     'I am a good developer',\n",
    "     'understand the meaning of words',\n",
    "     'your videos are good',]"
   ]
  },
  {
   "cell_type": "code",
   "execution_count": 3,
   "metadata": {},
   "outputs": [
    {
     "data": {
      "text/plain": [
       "['the glass of milk',\n",
       " 'the glass of juice',\n",
       " 'the cup of tea',\n",
       " 'I am a good boy',\n",
       " 'I am a good developer',\n",
       " 'understand the meaning of words',\n",
       " 'your videos are good']"
      ]
     },
     "execution_count": 3,
     "metadata": {},
     "output_type": "execute_result"
    }
   ],
   "source": [
    "sent"
   ]
  },
  {
   "cell_type": "code",
   "execution_count": 4,
   "metadata": {},
   "outputs": [],
   "source": [
    "## Define the vocabulary size\n",
    "voc_size=10000"
   ]
  },
  {
   "cell_type": "code",
   "execution_count": 5,
   "metadata": {},
   "outputs": [
    {
     "data": {
      "text/plain": [
       "['the glass of milk',\n",
       " 'the glass of juice',\n",
       " 'the cup of tea',\n",
       " 'I am a good boy',\n",
       " 'I am a good developer',\n",
       " 'understand the meaning of words',\n",
       " 'your videos are good']"
      ]
     },
     "execution_count": 5,
     "metadata": {},
     "output_type": "execute_result"
    }
   ],
   "source": [
    "sent"
   ]
  },
  {
   "cell_type": "code",
   "execution_count": 6,
   "metadata": {},
   "outputs": [
    {
     "data": {
      "text/plain": [
       "[[9853, 260, 3625, 4580],\n",
       " [9853, 260, 3625, 11],\n",
       " [9853, 785, 3625, 2345],\n",
       " [2372, 186, 7119, 7340, 6990],\n",
       " [2372, 186, 7119, 7340, 6219],\n",
       " [449, 9853, 4510, 3625, 7491],\n",
       " [1200, 6628, 7447, 7340]]"
      ]
     },
     "execution_count": 6,
     "metadata": {},
     "output_type": "execute_result"
    }
   ],
   "source": [
    "### One Hot Representation\n",
    "one_hot_repr=[one_hot(words,voc_size)for words in sent]\n",
    "one_hot_repr"
   ]
  },
  {
   "cell_type": "code",
   "execution_count": 7,
   "metadata": {},
   "outputs": [],
   "source": [
    "## word Embedding Representation\n",
    "\n",
    "from tensorflow.keras.layers import Embedding\n",
    "#from tensorflow.keras.processing.sequence import pad_sequences\n",
    "from tensorflow.keras.utils import pad_sequences\n",
    "from tensorflow.keras.models import Sequential"
   ]
  },
  {
   "cell_type": "code",
   "execution_count": 8,
   "metadata": {},
   "outputs": [],
   "source": [
    "import numpy as np"
   ]
  },
  {
   "cell_type": "code",
   "execution_count": 9,
   "metadata": {},
   "outputs": [
    {
     "name": "stdout",
     "output_type": "stream",
     "text": [
      "[[   0    0    0    0 9853  260 3625 4580]\n",
      " [   0    0    0    0 9853  260 3625   11]\n",
      " [   0    0    0    0 9853  785 3625 2345]\n",
      " [   0    0    0 2372  186 7119 7340 6990]\n",
      " [   0    0    0 2372  186 7119 7340 6219]\n",
      " [   0    0    0  449 9853 4510 3625 7491]\n",
      " [   0    0    0    0 1200 6628 7447 7340]]\n"
     ]
    }
   ],
   "source": [
    "sent_length=8\n",
    "embedded_docs=pad_sequences(one_hot_repr,padding='pre',maxlen=sent_length)\n",
    "print(embedded_docs)"
   ]
  },
  {
   "cell_type": "code",
   "execution_count": 10,
   "metadata": {},
   "outputs": [],
   "source": [
    "## feature representation\n",
    "dim=10"
   ]
  },
  {
   "cell_type": "code",
   "execution_count": 11,
   "metadata": {},
   "outputs": [
    {
     "name": "stderr",
     "output_type": "stream",
     "text": [
      "/opt/anaconda3/lib/python3.12/site-packages/keras/src/layers/core/embedding.py:90: UserWarning: Argument `input_length` is deprecated. Just remove it.\n",
      "  warnings.warn(\n"
     ]
    }
   ],
   "source": [
    "model=Sequential()\n",
    "model.add(Embedding(voc_size,dim,input_length=sent_length))\n",
    "model.compile('adam','mse')"
   ]
  },
  {
   "cell_type": "code",
   "execution_count": 12,
   "metadata": {},
   "outputs": [
    {
     "data": {
      "text/html": [
       "<pre style=\"white-space:pre;overflow-x:auto;line-height:normal;font-family:Menlo,'DejaVu Sans Mono',consolas,'Courier New',monospace\"><span style=\"font-weight: bold\">Model: \"sequential\"</span>\n",
       "</pre>\n"
      ],
      "text/plain": [
       "\u001b[1mModel: \"sequential\"\u001b[0m\n"
      ]
     },
     "metadata": {},
     "output_type": "display_data"
    },
    {
     "data": {
      "text/html": [
       "<pre style=\"white-space:pre;overflow-x:auto;line-height:normal;font-family:Menlo,'DejaVu Sans Mono',consolas,'Courier New',monospace\">┏━━━━━━━━━━━━━━━━━━━━━━━━━━━━━━━━━┳━━━━━━━━━━━━━━━━━━━━━━━━┳━━━━━━━━━━━━━━━┓\n",
       "┃<span style=\"font-weight: bold\"> Layer (type)                    </span>┃<span style=\"font-weight: bold\"> Output Shape           </span>┃<span style=\"font-weight: bold\">       Param # </span>┃\n",
       "┡━━━━━━━━━━━━━━━━━━━━━━━━━━━━━━━━━╇━━━━━━━━━━━━━━━━━━━━━━━━╇━━━━━━━━━━━━━━━┩\n",
       "│ embedding (<span style=\"color: #0087ff; text-decoration-color: #0087ff\">Embedding</span>)           │ ?                      │   <span style=\"color: #00af00; text-decoration-color: #00af00\">0</span> (unbuilt) │\n",
       "└─────────────────────────────────┴────────────────────────┴───────────────┘\n",
       "</pre>\n"
      ],
      "text/plain": [
       "┏━━━━━━━━━━━━━━━━━━━━━━━━━━━━━━━━━┳━━━━━━━━━━━━━━━━━━━━━━━━┳━━━━━━━━━━━━━━━┓\n",
       "┃\u001b[1m \u001b[0m\u001b[1mLayer (type)                   \u001b[0m\u001b[1m \u001b[0m┃\u001b[1m \u001b[0m\u001b[1mOutput Shape          \u001b[0m\u001b[1m \u001b[0m┃\u001b[1m \u001b[0m\u001b[1m      Param #\u001b[0m\u001b[1m \u001b[0m┃\n",
       "┡━━━━━━━━━━━━━━━━━━━━━━━━━━━━━━━━━╇━━━━━━━━━━━━━━━━━━━━━━━━╇━━━━━━━━━━━━━━━┩\n",
       "│ embedding (\u001b[38;5;33mEmbedding\u001b[0m)           │ ?                      │   \u001b[38;5;34m0\u001b[0m (unbuilt) │\n",
       "└─────────────────────────────────┴────────────────────────┴───────────────┘\n"
      ]
     },
     "metadata": {},
     "output_type": "display_data"
    },
    {
     "data": {
      "text/html": [
       "<pre style=\"white-space:pre;overflow-x:auto;line-height:normal;font-family:Menlo,'DejaVu Sans Mono',consolas,'Courier New',monospace\"><span style=\"font-weight: bold\"> Total params: </span><span style=\"color: #00af00; text-decoration-color: #00af00\">0</span> (0.00 B)\n",
       "</pre>\n"
      ],
      "text/plain": [
       "\u001b[1m Total params: \u001b[0m\u001b[38;5;34m0\u001b[0m (0.00 B)\n"
      ]
     },
     "metadata": {},
     "output_type": "display_data"
    },
    {
     "data": {
      "text/html": [
       "<pre style=\"white-space:pre;overflow-x:auto;line-height:normal;font-family:Menlo,'DejaVu Sans Mono',consolas,'Courier New',monospace\"><span style=\"font-weight: bold\"> Trainable params: </span><span style=\"color: #00af00; text-decoration-color: #00af00\">0</span> (0.00 B)\n",
       "</pre>\n"
      ],
      "text/plain": [
       "\u001b[1m Trainable params: \u001b[0m\u001b[38;5;34m0\u001b[0m (0.00 B)\n"
      ]
     },
     "metadata": {},
     "output_type": "display_data"
    },
    {
     "data": {
      "text/html": [
       "<pre style=\"white-space:pre;overflow-x:auto;line-height:normal;font-family:Menlo,'DejaVu Sans Mono',consolas,'Courier New',monospace\"><span style=\"font-weight: bold\"> Non-trainable params: </span><span style=\"color: #00af00; text-decoration-color: #00af00\">0</span> (0.00 B)\n",
       "</pre>\n"
      ],
      "text/plain": [
       "\u001b[1m Non-trainable params: \u001b[0m\u001b[38;5;34m0\u001b[0m (0.00 B)\n"
      ]
     },
     "metadata": {},
     "output_type": "display_data"
    }
   ],
   "source": [
    "model.summary()"
   ]
  },
  {
   "cell_type": "code",
   "execution_count": 13,
   "metadata": {},
   "outputs": [
    {
     "name": "stdout",
     "output_type": "stream",
     "text": [
      "\u001b[1m1/1\u001b[0m \u001b[32m━━━━━━━━━━━━━━━━━━━━\u001b[0m\u001b[37m\u001b[0m \u001b[1m0s\u001b[0m 34ms/step\n"
     ]
    },
    {
     "data": {
      "text/plain": [
       "array([[[ 0.02242551,  0.02497957, -0.03473592, -0.02115737,\n",
       "          0.04795447,  0.01139813, -0.03389149,  0.0075451 ,\n",
       "         -0.04435864, -0.02053872],\n",
       "        [ 0.02242551,  0.02497957, -0.03473592, -0.02115737,\n",
       "          0.04795447,  0.01139813, -0.03389149,  0.0075451 ,\n",
       "         -0.04435864, -0.02053872],\n",
       "        [ 0.02242551,  0.02497957, -0.03473592, -0.02115737,\n",
       "          0.04795447,  0.01139813, -0.03389149,  0.0075451 ,\n",
       "         -0.04435864, -0.02053872],\n",
       "        [ 0.02242551,  0.02497957, -0.03473592, -0.02115737,\n",
       "          0.04795447,  0.01139813, -0.03389149,  0.0075451 ,\n",
       "         -0.04435864, -0.02053872],\n",
       "        [ 0.0214205 , -0.03735643,  0.0189845 ,  0.00950005,\n",
       "         -0.01969501, -0.0061079 ,  0.0253568 ,  0.01294697,\n",
       "          0.01558912,  0.03378348],\n",
       "        [-0.0192007 , -0.03708471,  0.01968316,  0.04995939,\n",
       "         -0.03781375, -0.01066483,  0.00181819, -0.00531769,\n",
       "          0.04615562,  0.01466645],\n",
       "        [ 0.00852426,  0.00877073, -0.04405056,  0.02092352,\n",
       "          0.00630669, -0.02640721,  0.00883485,  0.04129926,\n",
       "          0.04325298,  0.00308638],\n",
       "        [ 0.04541034,  0.02273842, -0.00088531, -0.02433428,\n",
       "         -0.00963784,  0.00463413, -0.01601752,  0.04751173,\n",
       "          0.03817505,  0.04150255]],\n",
       "\n",
       "       [[ 0.02242551,  0.02497957, -0.03473592, -0.02115737,\n",
       "          0.04795447,  0.01139813, -0.03389149,  0.0075451 ,\n",
       "         -0.04435864, -0.02053872],\n",
       "        [ 0.02242551,  0.02497957, -0.03473592, -0.02115737,\n",
       "          0.04795447,  0.01139813, -0.03389149,  0.0075451 ,\n",
       "         -0.04435864, -0.02053872],\n",
       "        [ 0.02242551,  0.02497957, -0.03473592, -0.02115737,\n",
       "          0.04795447,  0.01139813, -0.03389149,  0.0075451 ,\n",
       "         -0.04435864, -0.02053872],\n",
       "        [ 0.02242551,  0.02497957, -0.03473592, -0.02115737,\n",
       "          0.04795447,  0.01139813, -0.03389149,  0.0075451 ,\n",
       "         -0.04435864, -0.02053872],\n",
       "        [ 0.0214205 , -0.03735643,  0.0189845 ,  0.00950005,\n",
       "         -0.01969501, -0.0061079 ,  0.0253568 ,  0.01294697,\n",
       "          0.01558912,  0.03378348],\n",
       "        [-0.0192007 , -0.03708471,  0.01968316,  0.04995939,\n",
       "         -0.03781375, -0.01066483,  0.00181819, -0.00531769,\n",
       "          0.04615562,  0.01466645],\n",
       "        [ 0.00852426,  0.00877073, -0.04405056,  0.02092352,\n",
       "          0.00630669, -0.02640721,  0.00883485,  0.04129926,\n",
       "          0.04325298,  0.00308638],\n",
       "        [ 0.00478438,  0.03268557,  0.04209993,  0.00258557,\n",
       "          0.01400577, -0.00765514, -0.02732171, -0.01820011,\n",
       "         -0.04890391, -0.02667582]],\n",
       "\n",
       "       [[ 0.02242551,  0.02497957, -0.03473592, -0.02115737,\n",
       "          0.04795447,  0.01139813, -0.03389149,  0.0075451 ,\n",
       "         -0.04435864, -0.02053872],\n",
       "        [ 0.02242551,  0.02497957, -0.03473592, -0.02115737,\n",
       "          0.04795447,  0.01139813, -0.03389149,  0.0075451 ,\n",
       "         -0.04435864, -0.02053872],\n",
       "        [ 0.02242551,  0.02497957, -0.03473592, -0.02115737,\n",
       "          0.04795447,  0.01139813, -0.03389149,  0.0075451 ,\n",
       "         -0.04435864, -0.02053872],\n",
       "        [ 0.02242551,  0.02497957, -0.03473592, -0.02115737,\n",
       "          0.04795447,  0.01139813, -0.03389149,  0.0075451 ,\n",
       "         -0.04435864, -0.02053872],\n",
       "        [ 0.0214205 , -0.03735643,  0.0189845 ,  0.00950005,\n",
       "         -0.01969501, -0.0061079 ,  0.0253568 ,  0.01294697,\n",
       "          0.01558912,  0.03378348],\n",
       "        [ 0.02198924, -0.00113224,  0.04540369, -0.041055  ,\n",
       "         -0.01073269,  0.04094236, -0.03217741, -0.0081436 ,\n",
       "         -0.0361715 ,  0.02510161],\n",
       "        [ 0.00852426,  0.00877073, -0.04405056,  0.02092352,\n",
       "          0.00630669, -0.02640721,  0.00883485,  0.04129926,\n",
       "          0.04325298,  0.00308638],\n",
       "        [-0.01101041, -0.01576109,  0.01662654,  0.02795074,\n",
       "          0.02400516,  0.04095528,  0.02171186, -0.03108907,\n",
       "         -0.02976153,  0.03149307]],\n",
       "\n",
       "       [[ 0.02242551,  0.02497957, -0.03473592, -0.02115737,\n",
       "          0.04795447,  0.01139813, -0.03389149,  0.0075451 ,\n",
       "         -0.04435864, -0.02053872],\n",
       "        [ 0.02242551,  0.02497957, -0.03473592, -0.02115737,\n",
       "          0.04795447,  0.01139813, -0.03389149,  0.0075451 ,\n",
       "         -0.04435864, -0.02053872],\n",
       "        [ 0.02242551,  0.02497957, -0.03473592, -0.02115737,\n",
       "          0.04795447,  0.01139813, -0.03389149,  0.0075451 ,\n",
       "         -0.04435864, -0.02053872],\n",
       "        [-0.00792078, -0.01227153, -0.04714328,  0.04453467,\n",
       "         -0.02725545,  0.02738846,  0.02116409, -0.02891929,\n",
       "         -0.03313953, -0.01594006],\n",
       "        [-0.02231081, -0.03065903,  0.04168222,  0.0079553 ,\n",
       "          0.03460176, -0.00050724,  0.00202035,  0.0152156 ,\n",
       "         -0.00801694, -0.00940045],\n",
       "        [ 0.02247635,  0.00216957,  0.00153404,  0.02913686,\n",
       "          0.01385934,  0.0367435 , -0.04600893, -0.00565512,\n",
       "          0.04459441,  0.0437361 ],\n",
       "        [-0.01473986, -0.00137872, -0.02023077, -0.00161594,\n",
       "          0.02569013, -0.01052725,  0.00681847,  0.03816492,\n",
       "         -0.03545459, -0.04657672],\n",
       "        [ 0.00976088,  0.039764  ,  0.00497875, -0.01138631,\n",
       "         -0.02642918,  0.04816857,  0.01752931,  0.04819098,\n",
       "          0.00753216, -0.0403047 ]],\n",
       "\n",
       "       [[ 0.02242551,  0.02497957, -0.03473592, -0.02115737,\n",
       "          0.04795447,  0.01139813, -0.03389149,  0.0075451 ,\n",
       "         -0.04435864, -0.02053872],\n",
       "        [ 0.02242551,  0.02497957, -0.03473592, -0.02115737,\n",
       "          0.04795447,  0.01139813, -0.03389149,  0.0075451 ,\n",
       "         -0.04435864, -0.02053872],\n",
       "        [ 0.02242551,  0.02497957, -0.03473592, -0.02115737,\n",
       "          0.04795447,  0.01139813, -0.03389149,  0.0075451 ,\n",
       "         -0.04435864, -0.02053872],\n",
       "        [-0.00792078, -0.01227153, -0.04714328,  0.04453467,\n",
       "         -0.02725545,  0.02738846,  0.02116409, -0.02891929,\n",
       "         -0.03313953, -0.01594006],\n",
       "        [-0.02231081, -0.03065903,  0.04168222,  0.0079553 ,\n",
       "          0.03460176, -0.00050724,  0.00202035,  0.0152156 ,\n",
       "         -0.00801694, -0.00940045],\n",
       "        [ 0.02247635,  0.00216957,  0.00153404,  0.02913686,\n",
       "          0.01385934,  0.0367435 , -0.04600893, -0.00565512,\n",
       "          0.04459441,  0.0437361 ],\n",
       "        [-0.01473986, -0.00137872, -0.02023077, -0.00161594,\n",
       "          0.02569013, -0.01052725,  0.00681847,  0.03816492,\n",
       "         -0.03545459, -0.04657672],\n",
       "        [-0.02549624, -0.00232768,  0.04336477, -0.04657843,\n",
       "          0.03056246, -0.01026765,  0.04456467,  0.03929282,\n",
       "         -0.04337119, -0.00041646]],\n",
       "\n",
       "       [[ 0.02242551,  0.02497957, -0.03473592, -0.02115737,\n",
       "          0.04795447,  0.01139813, -0.03389149,  0.0075451 ,\n",
       "         -0.04435864, -0.02053872],\n",
       "        [ 0.02242551,  0.02497957, -0.03473592, -0.02115737,\n",
       "          0.04795447,  0.01139813, -0.03389149,  0.0075451 ,\n",
       "         -0.04435864, -0.02053872],\n",
       "        [ 0.02242551,  0.02497957, -0.03473592, -0.02115737,\n",
       "          0.04795447,  0.01139813, -0.03389149,  0.0075451 ,\n",
       "         -0.04435864, -0.02053872],\n",
       "        [ 0.04436981,  0.0456303 , -0.00155453, -0.01502572,\n",
       "         -0.0436329 , -0.03293722, -0.00666029,  0.00712985,\n",
       "         -0.02361193,  0.04654426],\n",
       "        [ 0.0214205 , -0.03735643,  0.0189845 ,  0.00950005,\n",
       "         -0.01969501, -0.0061079 ,  0.0253568 ,  0.01294697,\n",
       "          0.01558912,  0.03378348],\n",
       "        [-0.03746033, -0.03376345, -0.04690984, -0.000156  ,\n",
       "          0.01312986, -0.04917135,  0.00288448,  0.00224707,\n",
       "         -0.04919213,  0.0176507 ],\n",
       "        [ 0.00852426,  0.00877073, -0.04405056,  0.02092352,\n",
       "          0.00630669, -0.02640721,  0.00883485,  0.04129926,\n",
       "          0.04325298,  0.00308638],\n",
       "        [ 0.00704737, -0.04011483, -0.01862272,  0.0160367 ,\n",
       "         -0.049563  , -0.04150072, -0.0230204 ,  0.04641512,\n",
       "         -0.02367355, -0.02048843]],\n",
       "\n",
       "       [[ 0.02242551,  0.02497957, -0.03473592, -0.02115737,\n",
       "          0.04795447,  0.01139813, -0.03389149,  0.0075451 ,\n",
       "         -0.04435864, -0.02053872],\n",
       "        [ 0.02242551,  0.02497957, -0.03473592, -0.02115737,\n",
       "          0.04795447,  0.01139813, -0.03389149,  0.0075451 ,\n",
       "         -0.04435864, -0.02053872],\n",
       "        [ 0.02242551,  0.02497957, -0.03473592, -0.02115737,\n",
       "          0.04795447,  0.01139813, -0.03389149,  0.0075451 ,\n",
       "         -0.04435864, -0.02053872],\n",
       "        [ 0.02242551,  0.02497957, -0.03473592, -0.02115737,\n",
       "          0.04795447,  0.01139813, -0.03389149,  0.0075451 ,\n",
       "         -0.04435864, -0.02053872],\n",
       "        [ 0.04270368,  0.00604335, -0.02934773, -0.01147255,\n",
       "         -0.00585294,  0.03344103,  0.04655002,  0.00679287,\n",
       "          0.00828958, -0.03828643],\n",
       "        [-0.02915809,  0.04016917,  0.00533991, -0.00701972,\n",
       "         -0.02076852, -0.00116545,  0.00430052, -0.01309432,\n",
       "         -0.04173245, -0.01578745],\n",
       "        [-0.00707213, -0.03295758, -0.01664115, -0.02148683,\n",
       "         -0.02464519,  0.01212422,  0.0432484 ,  0.03450476,\n",
       "         -0.01269887,  0.00631374],\n",
       "        [-0.01473986, -0.00137872, -0.02023077, -0.00161594,\n",
       "          0.02569013, -0.01052725,  0.00681847,  0.03816492,\n",
       "         -0.03545459, -0.04657672]]], dtype=float32)"
      ]
     },
     "execution_count": 13,
     "metadata": {},
     "output_type": "execute_result"
    }
   ],
   "source": [
    "model.predict(embedded_docs)"
   ]
  },
  {
   "cell_type": "code",
   "execution_count": 14,
   "metadata": {},
   "outputs": [
    {
     "data": {
      "text/plain": [
       "array([   0,    0,    0,    0, 9853,  260, 3625, 4580], dtype=int32)"
      ]
     },
     "execution_count": 14,
     "metadata": {},
     "output_type": "execute_result"
    }
   ],
   "source": [
    "embedded_docs[0]"
   ]
  },
  {
   "cell_type": "code",
   "execution_count": 15,
   "metadata": {},
   "outputs": [
    {
     "ename": "ValueError",
     "evalue": "Exception encountered when calling Sequential.call().\n\n\u001b[1mCannot take the length of shape with unknown rank.\u001b[0m\n\nArguments received by Sequential.call():\n  • inputs=tf.Tensor(shape=<unknown>, dtype=int32)\n  • training=False\n  • mask=None",
     "output_type": "error",
     "traceback": [
      "\u001b[0;31m---------------------------------------------------------------------------\u001b[0m",
      "\u001b[0;31mValueError\u001b[0m                                Traceback (most recent call last)",
      "Cell \u001b[0;32mIn[15], line 1\u001b[0m\n\u001b[0;32m----> 1\u001b[0m model\u001b[38;5;241m.\u001b[39mpredict(embedded_docs[\u001b[38;5;241m0\u001b[39m])\n",
      "File \u001b[0;32m/opt/anaconda3/lib/python3.12/site-packages/keras/src/utils/traceback_utils.py:122\u001b[0m, in \u001b[0;36mfilter_traceback.<locals>.error_handler\u001b[0;34m(*args, **kwargs)\u001b[0m\n\u001b[1;32m    119\u001b[0m     filtered_tb \u001b[38;5;241m=\u001b[39m _process_traceback_frames(e\u001b[38;5;241m.\u001b[39m__traceback__)\n\u001b[1;32m    120\u001b[0m     \u001b[38;5;66;03m# To get the full stack trace, call:\u001b[39;00m\n\u001b[1;32m    121\u001b[0m     \u001b[38;5;66;03m# `keras.config.disable_traceback_filtering()`\u001b[39;00m\n\u001b[0;32m--> 122\u001b[0m     \u001b[38;5;28;01mraise\u001b[39;00m e\u001b[38;5;241m.\u001b[39mwith_traceback(filtered_tb) \u001b[38;5;28;01mfrom\u001b[39;00m \u001b[38;5;28;01mNone\u001b[39;00m\n\u001b[1;32m    123\u001b[0m \u001b[38;5;28;01mfinally\u001b[39;00m:\n\u001b[1;32m    124\u001b[0m     \u001b[38;5;28;01mdel\u001b[39;00m filtered_tb\n",
      "File \u001b[0;32m/opt/anaconda3/lib/python3.12/site-packages/keras/src/utils/traceback_utils.py:122\u001b[0m, in \u001b[0;36mfilter_traceback.<locals>.error_handler\u001b[0;34m(*args, **kwargs)\u001b[0m\n\u001b[1;32m    119\u001b[0m     filtered_tb \u001b[38;5;241m=\u001b[39m _process_traceback_frames(e\u001b[38;5;241m.\u001b[39m__traceback__)\n\u001b[1;32m    120\u001b[0m     \u001b[38;5;66;03m# To get the full stack trace, call:\u001b[39;00m\n\u001b[1;32m    121\u001b[0m     \u001b[38;5;66;03m# `keras.config.disable_traceback_filtering()`\u001b[39;00m\n\u001b[0;32m--> 122\u001b[0m     \u001b[38;5;28;01mraise\u001b[39;00m e\u001b[38;5;241m.\u001b[39mwith_traceback(filtered_tb) \u001b[38;5;28;01mfrom\u001b[39;00m \u001b[38;5;28;01mNone\u001b[39;00m\n\u001b[1;32m    123\u001b[0m \u001b[38;5;28;01mfinally\u001b[39;00m:\n\u001b[1;32m    124\u001b[0m     \u001b[38;5;28;01mdel\u001b[39;00m filtered_tb\n",
      "\u001b[0;31mValueError\u001b[0m: Exception encountered when calling Sequential.call().\n\n\u001b[1mCannot take the length of shape with unknown rank.\u001b[0m\n\nArguments received by Sequential.call():\n  • inputs=tf.Tensor(shape=<unknown>, dtype=int32)\n  • training=False\n  • mask=None"
     ]
    }
   ],
   "source": [
    "model.predict(embedded_docs[0])"
   ]
  },
  {
   "cell_type": "code",
   "execution_count": null,
   "metadata": {},
   "outputs": [],
   "source": []
  }
 ],
 "metadata": {
  "kernelspec": {
   "display_name": "base",
   "language": "python",
   "name": "python3"
  },
  "language_info": {
   "codemirror_mode": {
    "name": "ipython",
    "version": 3
   },
   "file_extension": ".py",
   "mimetype": "text/x-python",
   "name": "python",
   "nbconvert_exporter": "python",
   "pygments_lexer": "ipython3",
   "version": "3.12.7"
  }
 },
 "nbformat": 4,
 "nbformat_minor": 2
}
